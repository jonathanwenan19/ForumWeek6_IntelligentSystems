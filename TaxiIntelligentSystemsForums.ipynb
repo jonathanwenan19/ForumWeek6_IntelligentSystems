{
 "cells": [
  {
   "cell_type": "code",
   "execution_count": 1,
   "metadata": {},
   "outputs": [
    {
     "name": "stdout",
     "output_type": "stream",
     "text": [
      "Requirement already satisfied: stable_baselines3 in c:\\users\\jonathan\\anaconda3\\lib\\site-packages (1.6.2)\n",
      "Requirement already satisfied: torch>=1.11 in c:\\users\\jonathan\\anaconda3\\lib\\site-packages (from stable_baselines3) (1.13.0)\n",
      "Requirement already satisfied: cloudpickle in c:\\users\\jonathan\\anaconda3\\lib\\site-packages (from stable_baselines3) (1.6.0)\n",
      "Requirement already satisfied: matplotlib in c:\\users\\jonathan\\anaconda3\\lib\\site-packages (from stable_baselines3) (3.3.2)\n",
      "Requirement already satisfied: importlib-metadata~=4.13 in c:\\users\\jonathan\\anaconda3\\lib\\site-packages (from stable_baselines3) (4.13.0)\n",
      "Requirement already satisfied: pandas in c:\\users\\jonathan\\anaconda3\\lib\\site-packages (from stable_baselines3) (1.1.3)\n",
      "Requirement already satisfied: gym==0.21 in c:\\users\\jonathan\\anaconda3\\lib\\site-packages (from stable_baselines3) (0.21.0)\n",
      "Requirement already satisfied: numpy in c:\\users\\jonathan\\anaconda3\\lib\\site-packages (from stable_baselines3) (1.19.2)\n",
      "Requirement already satisfied: typing-extensions in c:\\users\\jonathan\\anaconda3\\lib\\site-packages (from torch>=1.11->stable_baselines3) (3.7.4.3)\n",
      "Requirement already satisfied: kiwisolver>=1.0.1 in c:\\users\\jonathan\\anaconda3\\lib\\site-packages (from matplotlib->stable_baselines3) (1.3.0)\n",
      "Requirement already satisfied: certifi>=2020.06.20 in c:\\users\\jonathan\\anaconda3\\lib\\site-packages (from matplotlib->stable_baselines3) (2020.6.20)\n",
      "Requirement already satisfied: cycler>=0.10 in c:\\users\\jonathan\\anaconda3\\lib\\site-packages (from matplotlib->stable_baselines3) (0.10.0)\n",
      "Requirement already satisfied: pyparsing!=2.0.4,!=2.1.2,!=2.1.6,>=2.0.3 in c:\\users\\jonathan\\anaconda3\\lib\\site-packages (from matplotlib->stable_baselines3) (2.4.7)\n",
      "Requirement already satisfied: python-dateutil>=2.1 in c:\\users\\jonathan\\anaconda3\\lib\\site-packages (from matplotlib->stable_baselines3) (2.8.1)\n",
      "Requirement already satisfied: pillow>=6.2.0 in c:\\users\\jonathan\\anaconda3\\lib\\site-packages (from matplotlib->stable_baselines3) (8.0.1)\n",
      "Requirement already satisfied: zipp>=0.5 in c:\\users\\jonathan\\anaconda3\\lib\\site-packages (from importlib-metadata~=4.13->stable_baselines3) (3.4.0)\n",
      "Requirement already satisfied: pytz>=2017.2 in c:\\users\\jonathan\\anaconda3\\lib\\site-packages (from pandas->stable_baselines3) (2020.1)\n",
      "Requirement already satisfied: six in c:\\users\\jonathan\\anaconda3\\lib\\site-packages (from cycler>=0.10->matplotlib->stable_baselines3) (1.15.0)\n",
      "Requirement already satisfied: gym[box2d] in c:\\users\\jonathan\\anaconda3\\lib\\site-packages (0.21.0)\n",
      "Requirement already satisfied: numpy>=1.18.0 in c:\\users\\jonathan\\anaconda3\\lib\\site-packages (from gym[box2d]) (1.19.2)\n",
      "Requirement already satisfied: cloudpickle>=1.2.0 in c:\\users\\jonathan\\anaconda3\\lib\\site-packages (from gym[box2d]) (1.6.0)\n",
      "Collecting box2d-py==2.3.5; extra == \"box2d\"\n",
      "  Using cached box2d-py-2.3.5.tar.gz (374 kB)\n",
      "Requirement already satisfied: pyglet>=1.4.0; extra == \"box2d\" in c:\\users\\jonathan\\anaconda3\\lib\\site-packages (from gym[box2d]) (1.5.27)\n",
      "Building wheels for collected packages: box2d-py\n",
      "  Building wheel for box2d-py (setup.py): started\n",
      "  Building wheel for box2d-py (setup.py): finished with status 'error'\n",
      "  Running setup.py clean for box2d-py\n",
      "Failed to build box2d-py\n",
      "Installing collected packages: box2d-py\n",
      "    Running setup.py install for box2d-py: started\n",
      "    Running setup.py install for box2d-py: finished with status 'error'\n"
     ]
    },
    {
     "name": "stderr",
     "output_type": "stream",
     "text": [
      "  ERROR: Command errored out with exit status 1:\n",
      "   command: 'C:\\Users\\Jonathan\\anaconda3\\python.exe' -u -c 'import sys, setuptools, tokenize; sys.argv[0] = '\"'\"'C:\\\\Users\\\\Jonathan\\\\AppData\\\\Local\\\\Temp\\\\pip-install-3l7heonc\\\\box2d-py\\\\setup.py'\"'\"'; __file__='\"'\"'C:\\\\Users\\\\Jonathan\\\\AppData\\\\Local\\\\Temp\\\\pip-install-3l7heonc\\\\box2d-py\\\\setup.py'\"'\"';f=getattr(tokenize, '\"'\"'open'\"'\"', open)(__file__);code=f.read().replace('\"'\"'\\r\\n'\"'\"', '\"'\"'\\n'\"'\"');f.close();exec(compile(code, __file__, '\"'\"'exec'\"'\"'))' bdist_wheel -d 'C:\\Users\\Jonathan\\AppData\\Local\\Temp\\pip-wheel-c39vrms6'\n",
      "       cwd: C:\\Users\\Jonathan\\AppData\\Local\\Temp\\pip-install-3l7heonc\\box2d-py\\\n",
      "  Complete output (28 lines):\n",
      "  Using setuptools (version 50.3.1.post20201107).\n",
      "  running bdist_wheel\n",
      "  running build\n",
      "  running build_py\n",
      "  creating build\n",
      "  creating build\\lib.win-amd64-3.8\n",
      "  creating build\\lib.win-amd64-3.8\\Box2D\n",
      "  copying library\\Box2D\\Box2D.py -> build\\lib.win-amd64-3.8\\Box2D\n",
      "  copying library\\Box2D\\__init__.py -> build\\lib.win-amd64-3.8\\Box2D\n",
      "  creating build\\lib.win-amd64-3.8\\Box2D\\b2\n",
      "  copying library\\Box2D\\b2\\__init__.py -> build\\lib.win-amd64-3.8\\Box2D\\b2\n",
      "  running build_ext\n",
      "  building 'Box2D._Box2D' extension\n",
      "  swigging Box2D\\Box2D.i to Box2D\\Box2D_wrap.cpp\n",
      "  C:\\Users\\Jonathan\\anaconda3\\Scripts\\swig.exe -python -c++ -IBox2D -small -O -includeall -ignoremissing -w201 -globals b2Globals -outdir library\\Box2D -keyword -w511 -D_SWIG_KWARGS -o Box2D\\Box2D_wrap.cpp Box2D\\Box2D.i\n",
      "  Box2D\\Common\\b2Math.h(67) : Warning 302: Identifier 'b2Vec2' redefined by %extend (ignored),\n",
      "  Box2D\\Box2D_math.i(47) : Warning 302: %extend definition of 'b2Vec2'.\n",
      "  Box2D\\Common\\b2Math.h(158) : Warning 302: Identifier 'b2Vec3' redefined by %extend (ignored),\n",
      "  Box2D\\Box2D_math.i(168) : Warning 302: %extend definition of 'b2Vec3'.\n",
      "  Box2D\\Common\\b2Math.h(197) : Warning 302: Identifier 'b2Mat22' redefined by %extend (ignored),\n",
      "  Box2D\\Box2D_math.i(301) : Warning 302: %extend definition of 'b2Mat22'.\n",
      "  Box2D\\Common\\b2Math.h(271) : Warning 302: Identifier 'b2Mat33' redefined by %extend (ignored),\n",
      "  Box2D\\Box2D_math.i(372) : Warning 302: %extend definition of 'b2Mat33'.\n",
      "  Box2D\\Collision\\b2DynamicTree.h(44) : Warning 312: Nested union not currently supported (ignored).\n",
      "  Box2D\\Common\\b2Settings.h(144) : Warning 506: Can't wrap varargs with keyword arguments enabled\n",
      "  Box2D\\Common\\b2Math.h(91) : Warning 509: Overloaded method b2Vec2::operator ()(int32) effectively ignored,\n",
      "  Box2D\\Common\\b2Math.h(85) : Warning 509: as it is shadowed by b2Vec2::operator ()(int32) const.\n",
      "  error: Microsoft Visual C++ 14.0 or greater is required. Get it with \"Microsoft C++ Build Tools\": https://visualstudio.microsoft.com/visual-cpp-build-tools/\n",
      "  ----------------------------------------\n",
      "  ERROR: Failed building wheel for box2d-py\n",
      "    ERROR: Command errored out with exit status 1:\n",
      "     command: 'C:\\Users\\Jonathan\\anaconda3\\python.exe' -u -c 'import sys, setuptools, tokenize; sys.argv[0] = '\"'\"'C:\\\\Users\\\\Jonathan\\\\AppData\\\\Local\\\\Temp\\\\pip-install-3l7heonc\\\\box2d-py\\\\setup.py'\"'\"'; __file__='\"'\"'C:\\\\Users\\\\Jonathan\\\\AppData\\\\Local\\\\Temp\\\\pip-install-3l7heonc\\\\box2d-py\\\\setup.py'\"'\"';f=getattr(tokenize, '\"'\"'open'\"'\"', open)(__file__);code=f.read().replace('\"'\"'\\r\\n'\"'\"', '\"'\"'\\n'\"'\"');f.close();exec(compile(code, __file__, '\"'\"'exec'\"'\"'))' install --record 'C:\\Users\\Jonathan\\AppData\\Local\\Temp\\pip-record-huuspvjm\\install-record.txt' --single-version-externally-managed --compile --install-headers 'C:\\Users\\Jonathan\\anaconda3\\Include\\box2d-py'\n",
      "         cwd: C:\\Users\\Jonathan\\AppData\\Local\\Temp\\pip-install-3l7heonc\\box2d-py\\\n",
      "    Complete output (28 lines):\n",
      "    Using setuptools (version 50.3.1.post20201107).\n",
      "    running install\n",
      "    running build\n",
      "    running build_py\n",
      "    creating build\n",
      "    creating build\\lib.win-amd64-3.8\n",
      "    creating build\\lib.win-amd64-3.8\\Box2D\n",
      "    copying library\\Box2D\\Box2D.py -> build\\lib.win-amd64-3.8\\Box2D\n",
      "    copying library\\Box2D\\__init__.py -> build\\lib.win-amd64-3.8\\Box2D\n",
      "    creating build\\lib.win-amd64-3.8\\Box2D\\b2\n",
      "    copying library\\Box2D\\b2\\__init__.py -> build\\lib.win-amd64-3.8\\Box2D\\b2\n",
      "    running build_ext\n",
      "    building 'Box2D._Box2D' extension\n",
      "    swigging Box2D\\Box2D.i to Box2D\\Box2D_wrap.cpp\n",
      "    C:\\Users\\Jonathan\\anaconda3\\Scripts\\swig.exe -python -c++ -IBox2D -small -O -includeall -ignoremissing -w201 -globals b2Globals -outdir library\\Box2D -keyword -w511 -D_SWIG_KWARGS -o Box2D\\Box2D_wrap.cpp Box2D\\Box2D.i\n",
      "    Box2D\\Common\\b2Math.h(67) : Warning 302: Identifier 'b2Vec2' redefined by %extend (ignored),\n",
      "    Box2D\\Box2D_math.i(47) : Warning 302: %extend definition of 'b2Vec2'.\n",
      "    Box2D\\Common\\b2Math.h(158) : Warning 302: Identifier 'b2Vec3' redefined by %extend (ignored),\n",
      "    Box2D\\Box2D_math.i(168) : Warning 302: %extend definition of 'b2Vec3'.\n",
      "    Box2D\\Common\\b2Math.h(197) : Warning 302: Identifier 'b2Mat22' redefined by %extend (ignored),\n",
      "    Box2D\\Box2D_math.i(301) : Warning 302: %extend definition of 'b2Mat22'.\n",
      "    Box2D\\Common\\b2Math.h(271) : Warning 302: Identifier 'b2Mat33' redefined by %extend (ignored),\n",
      "    Box2D\\Box2D_math.i(372) : Warning 302: %extend definition of 'b2Mat33'.\n",
      "    Box2D\\Collision\\b2DynamicTree.h(44) : Warning 312: Nested union not currently supported (ignored).\n",
      "    Box2D\\Common\\b2Settings.h(144) : Warning 506: Can't wrap varargs with keyword arguments enabled\n",
      "    Box2D\\Common\\b2Math.h(91) : Warning 509: Overloaded method b2Vec2::operator ()(int32) effectively ignored,\n",
      "    Box2D\\Common\\b2Math.h(85) : Warning 509: as it is shadowed by b2Vec2::operator ()(int32) const.\n",
      "    error: Microsoft Visual C++ 14.0 or greater is required. Get it with \"Microsoft C++ Build Tools\": https://visualstudio.microsoft.com/visual-cpp-build-tools/\n",
      "    ----------------------------------------\n",
      "ERROR: Command errored out with exit status 1: 'C:\\Users\\Jonathan\\anaconda3\\python.exe' -u -c 'import sys, setuptools, tokenize; sys.argv[0] = '\"'\"'C:\\\\Users\\\\Jonathan\\\\AppData\\\\Local\\\\Temp\\\\pip-install-3l7heonc\\\\box2d-py\\\\setup.py'\"'\"'; __file__='\"'\"'C:\\\\Users\\\\Jonathan\\\\AppData\\\\Local\\\\Temp\\\\pip-install-3l7heonc\\\\box2d-py\\\\setup.py'\"'\"';f=getattr(tokenize, '\"'\"'open'\"'\"', open)(__file__);code=f.read().replace('\"'\"'\\r\\n'\"'\"', '\"'\"'\\n'\"'\"');f.close();exec(compile(code, __file__, '\"'\"'exec'\"'\"'))' install --record 'C:\\Users\\Jonathan\\AppData\\Local\\Temp\\pip-record-huuspvjm\\install-record.txt' --single-version-externally-managed --compile --install-headers 'C:\\Users\\Jonathan\\anaconda3\\Include\\box2d-py' Check the logs for full command output.\n"
     ]
    },
    {
     "name": "stdout",
     "output_type": "stream",
     "text": [
      "Requirement already satisfied: Box2D in c:\\users\\jonathan\\anaconda3\\lib\\site-packages (2.3.10)\n"
     ]
    }
   ],
   "source": [
    "! pip install stable_baselines3\n",
    "!  pip install gym[box2d]\n",
    "!pip install Box2D\n",
    "import gym\n",
    "import gym\n",
    "import numpy as np \n",
    "import matplotlib.pyplot as plt\n",
    "import time\n",
    "from time import sleep\n",
    "import random"
   ]
  },
  {
   "cell_type": "code",
   "execution_count": 2,
   "metadata": {},
   "outputs": [
    {
     "name": "stdout",
     "output_type": "stream",
     "text": [
      "+---------+\n",
      "|R: | : :\u001b[34;1mG\u001b[0m|\n",
      "| : | : : |\n",
      "| : : : : |\n",
      "| | : | : |\n",
      "|Y| : |\u001b[35mB\u001b[0m:\u001b[43m \u001b[0m|\n",
      "+---------+\n",
      "\n"
     ]
    }
   ],
   "source": [
    "env = gym.make(\"Taxi-v3\").env\n",
    "env.reset()\n",
    "env.render()"
   ]
  },
  {
   "cell_type": "code",
   "execution_count": 3,
   "metadata": {},
   "outputs": [
    {
     "name": "stdout",
     "output_type": "stream",
     "text": [
      "Action Space Discrete(6)\n",
      "State Space Discrete(500)\n"
     ]
    }
   ],
   "source": [
    "print(\"Action Space {}\".format(env.action_space))\n",
    "print(\"State Space {}\".format(env.observation_space))"
   ]
  },
  {
   "cell_type": "code",
   "execution_count": 4,
   "metadata": {},
   "outputs": [
    {
     "data": {
      "text/plain": [
       "array([[0., 0., 0., 0., 0., 0.],\n",
       "       [0., 0., 0., 0., 0., 0.],\n",
       "       [0., 0., 0., 0., 0., 0.],\n",
       "       ...,\n",
       "       [0., 0., 0., 0., 0., 0.],\n",
       "       [0., 0., 0., 0., 0., 0.],\n",
       "       [0., 0., 0., 0., 0., 0.]])"
      ]
     },
     "execution_count": 4,
     "metadata": {},
     "output_type": "execute_result"
    }
   ],
   "source": [
    "# initialize variables\n",
    "alpha = 0.9 #learning rate                 \n",
    "discount_factor = 0.618               \n",
    "epsilon = 1                  \n",
    "max_epsilon = 1\n",
    "min_epsilon = 0.01         \n",
    "decay = 0.01\n",
    "\n",
    "train_episodes = 2000    \n",
    "test_episodes = 100          \n",
    "max_steps = 100\n",
    "\n",
    "# initialize q table\n",
    "qtable = np.zeros((env.observation_space.n, env.action_space.n))\n",
    "qtable"
   ]
  },
  {
   "cell_type": "code",
   "execution_count": 5,
   "metadata": {},
   "outputs": [],
   "source": [
    "rewards = []\n",
    "epsilons = []\n",
    "\n",
    "for episode in range(train_episodes):\n",
    "    state = env.reset()\n",
    "    total_training_rewards = 0"
   ]
  },
  {
   "cell_type": "code",
   "execution_count": 6,
   "metadata": {},
   "outputs": [
    {
     "name": "stdout",
     "output_type": "stream",
     "text": [
      "Training score over time: -5.441\n"
     ]
    }
   ],
   "source": [
    "for step in range(100):\n",
    "    exp_exp_tradeoff = random.uniform(0, 1) \n",
    "    if exp_exp_tradeoff > epsilon:\n",
    "            action = np.argmax(qtable[state,:]) \n",
    "    else:\n",
    "            action = env.action_space.sample()\n",
    "    \n",
    "    newstate, reward, done , info = env.step(action)\n",
    "    \n",
    "    qtable[state, action] = qtable[state, action]+alpha*(reward+discount_factor*np.max(qtable[newstate, :])-qtable[state, action])\n",
    "    \n",
    "    total_training_rewards += reward\n",
    "    state = newstate\n",
    "    \n",
    "    if done == True :\n",
    "        print (\"Total reward for episode {}: {}\".format(episode, total_training_rewards))\n",
    "        break\n",
    "    \n",
    "    epsilon = min_epsilon+(max_epsilon-min_epsilon)*np.exp(-decay*episode)\n",
    "    \n",
    "    #Adding the total reward and reduced epsilon values\n",
    "    rewards.append(total_training_rewards)\n",
    "    epsilons.append(epsilon)\n",
    "print (\"Training score over time: \" + str(sum(rewards)/train_episodes))"
   ]
  },
  {
   "cell_type": "code",
   "execution_count": 7,
   "metadata": {},
   "outputs": [
    {
     "name": "stdout",
     "output_type": "stream",
     "text": [
      "[[0. 0. 0. 0. 0. 0.]\n",
      " [0. 0. 0. 0. 0. 0.]\n",
      " [0. 0. 0. 0. 0. 0.]\n",
      " ...\n",
      " [0. 0. 0. 0. 0. 0.]\n",
      " [0. 0. 0. 0. 0. 0.]\n",
      " [0. 0. 0. 0. 0. 0.]]\n"
     ]
    }
   ],
   "source": [
    "print(qtable)"
   ]
  },
  {
   "cell_type": "code",
   "execution_count": null,
   "metadata": {},
   "outputs": [],
   "source": []
  }
 ],
 "metadata": {
  "kernelspec": {
   "display_name": "Python 3",
   "language": "python",
   "name": "python3"
  },
  "language_info": {
   "codemirror_mode": {
    "name": "ipython",
    "version": 3
   },
   "file_extension": ".py",
   "mimetype": "text/x-python",
   "name": "python",
   "nbconvert_exporter": "python",
   "pygments_lexer": "ipython3",
   "version": "3.8.5"
  }
 },
 "nbformat": 4,
 "nbformat_minor": 4
}
